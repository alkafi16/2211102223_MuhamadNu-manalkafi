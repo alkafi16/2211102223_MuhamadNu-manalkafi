{
  "nbformat": 4,
  "nbformat_minor": 0,
  "metadata": {
    "colab": {
      "provenance": [],
      "authorship_tag": "ABX9TyOii8DCNaEOlKbepQ/HZSr3",
      "include_colab_link": true
    },
    "kernelspec": {
      "name": "python3",
      "display_name": "Python 3"
    },
    "language_info": {
      "name": "python"
    }
  },
  "cells": [
    {
      "cell_type": "markdown",
      "metadata": {
        "id": "view-in-github",
        "colab_type": "text"
      },
      "source": [
        "<a href=\"https://colab.research.google.com/github/alkafi16/2211102223_MuhamadNu-manalkafi/blob/main/2211102223_Muhamad_Nu'man_alkafi.ipynb\" target=\"_parent\"><img src=\"https://colab.research.google.com/assets/colab-badge.svg\" alt=\"Open In Colab\"/></a>"
      ]
    },
    {
      "cell_type": "code",
      "execution_count": 1,
      "metadata": {
        "colab": {
          "base_uri": "https://localhost:8080/"
        },
        "id": "Ye9OIpevlxCK",
        "outputId": "3ac497b8-0a60-49b8-d535-803bd3139a79"
      },
      "outputs": [
        {
          "output_type": "stream",
          "name": "stdout",
          "text": [
            "--2025-03-24 05:20:11--  https://gist.githubusercontent.com/samisaboss/0a95d2851f008c0eae8507e5c9849e84/raw/60cdea257df4e849fbc0ded4b5274cf970364ec5/p5_training_data.csv\n",
            "Resolving gist.githubusercontent.com (gist.githubusercontent.com)... 185.199.110.133, 185.199.108.133, 185.199.111.133, ...\n",
            "Connecting to gist.githubusercontent.com (gist.githubusercontent.com)|185.199.110.133|:443... connected.\n",
            "HTTP request sent, awaiting response... 200 OK\n",
            "Length: 9905 (9.7K) [text/plain]\n",
            "Saving to: ‘p5_training_data.csv’\n",
            "\n",
            "p5_training_data.cs 100%[===================>]   9.67K  --.-KB/s    in 0.001s  \n",
            "\n",
            "2025-03-24 05:20:12 (6.80 MB/s) - ‘p5_training_data.csv’ saved [9905/9905]\n",
            "\n",
            "--2025-03-24 05:20:12--  https://gist.githubusercontent.com/samisaboss/093fb4070041cf7d6788d893efa1070f/raw/7afb76bf43a58fa7d7f60749da8b1542b40a9599/p5_val_data.csv\n",
            "Resolving gist.githubusercontent.com (gist.githubusercontent.com)... 185.199.110.133, 185.199.108.133, 185.199.111.133, ...\n",
            "Connecting to gist.githubusercontent.com (gist.githubusercontent.com)|185.199.110.133|:443... connected.\n",
            "HTTP request sent, awaiting response... 200 OK\n",
            "Length: 1790 (1.7K) [text/plain]\n",
            "Saving to: ‘ p5_val_data.csv’\n",
            "\n",
            " p5_val_data.csv    100%[===================>]   1.75K  --.-KB/s    in 0s      \n",
            "\n",
            "2025-03-24 05:20:12 (13.8 MB/s) - ‘ p5_val_data.csv’ saved [1790/1790]\n",
            "\n",
            "<class 'pandas.core.frame.DataFrame'>\n",
            "RangeIndex: 99 entries, 0 to 98\n",
            "Data columns (total 23 columns):\n",
            " #   Column           Non-Null Count  Dtype  \n",
            "---  ------           --------------  -----  \n",
            " 0   type             99 non-null     int64  \n",
            " 1   baseStr          99 non-null     int64  \n",
            " 2   strGrowth        99 non-null     float64\n",
            " 3   maxStr           99 non-null     float64\n",
            " 4   baseAgi          99 non-null     int64  \n",
            " 5   agiGrowth        99 non-null     float64\n",
            " 6   maxAgi           99 non-null     float64\n",
            " 7   baseInt          99 non-null     int64  \n",
            " 8   intGrowth        99 non-null     float64\n",
            " 9   maxInt           99 non-null     float64\n",
            " 10  totalBaseAttr    99 non-null     int64  \n",
            " 11  totalAttrGrowth  99 non-null     float64\n",
            " 12  totalMaxAttr     99 non-null     float64\n",
            " 13  moveSpeed        99 non-null     int64  \n",
            " 14  baseArmor        99 non-null     float64\n",
            " 15  minDmg           99 non-null     int64  \n",
            " 16  maxDmg           99 non-null     int64  \n",
            " 17  range            99 non-null     int64  \n",
            " 18  baseAttackTime   99 non-null     float64\n",
            " 19  attackPoint      99 non-null     float64\n",
            " 20  attackBackswing  99 non-null     float64\n",
            " 21  turnRate         99 non-null     float64\n",
            " 22  regeneration     99 non-null     float64\n",
            "dtypes: float64(14), int64(9)\n",
            "memory usage: 17.9 KB\n",
            "None\n"
          ]
        }
      ],
      "source": [
        "import pandas as pd\n",
        "\n",
        "!wget \"https://gist.githubusercontent.com/samisaboss/0a95d2851f008c0eae8507e5c9849e84/raw/60cdea257df4e849fbc0ded4b5274cf970364ec5/p5_training_data.csv\" -O p5_training_data.csv\n",
        "!wget \"https://gist.githubusercontent.com/samisaboss/093fb4070041cf7d6788d893efa1070f/raw/7afb76bf43a58fa7d7f60749da8b1542b40a9599/p5_val_data.csv\" -O p5_val_data.csv\n",
        "\n",
        "df_train = pd.read_csv('p5_training_data.csv')\n",
        "df_train = df_train.drop(['name'], axis=1)\n",
        "print(df_train.info())"
      ]
    },
    {
      "cell_type": "code",
      "source": [
        "#correlation testing\n",
        "correlation_matrix = df_train.corr()\n",
        "print(correlation_matrix['type'])"
      ],
      "metadata": {
        "colab": {
          "base_uri": "https://localhost:8080/"
        },
        "id": "6QiLOHOZmEBK",
        "outputId": "9b948665-8296-4edf-accc-a9bdb4a051b5"
      },
      "execution_count": 2,
      "outputs": [
        {
          "output_type": "stream",
          "name": "stdout",
          "text": [
            "type               1.000000\n",
            "baseStr           -0.542666\n",
            "strGrowth         -0.542322\n",
            "maxStr            -0.581514\n",
            "baseAgi           -0.038086\n",
            "agiGrowth         -0.123072\n",
            "maxAgi            -0.110488\n",
            "baseInt            0.688410\n",
            "intGrowth          0.657814\n",
            "maxInt             0.699666\n",
            "totalBaseAttr      0.179483\n",
            "totalAttrGrowth    0.063110\n",
            "totalMaxAttr       0.114713\n",
            "moveSpeed          0.067136\n",
            "baseArmor         -0.113657\n",
            "minDmg            -0.384719\n",
            "maxDmg            -0.312799\n",
            "range              0.687704\n",
            "baseAttackTime    -0.297982\n",
            "attackPoint       -0.106053\n",
            "attackBackswing    0.011558\n",
            "turnRate          -0.034759\n",
            "regeneration      -0.090677\n",
            "Name: type, dtype: float64\n"
          ]
        }
      ]
    },
    {
      "cell_type": "code",
      "source": [
        "#drop attribute then less than 0.1 or -0.1\n",
        "columns_to_drop = correlation_matrix[((correlation_matrix['type'] < -0.1) & (correlation_matrix['type'] < 0.1))].index\n",
        "df_train = df_train.drop(columns_to_drop, axis=1)\n",
        "\n",
        "print(df_train.info())"
      ],
      "metadata": {
        "colab": {
          "base_uri": "https://localhost:8080/"
        },
        "id": "h4Gbma4qmKDf",
        "outputId": "573fa699-a8e9-4d8f-d4dd-19af350f6f95"
      },
      "execution_count": 3,
      "outputs": [
        {
          "output_type": "stream",
          "name": "stdout",
          "text": [
            "<class 'pandas.core.frame.DataFrame'>\n",
            "RangeIndex: 99 entries, 0 to 98\n",
            "Data columns (total 13 columns):\n",
            " #   Column           Non-Null Count  Dtype  \n",
            "---  ------           --------------  -----  \n",
            " 0   type             99 non-null     int64  \n",
            " 1   baseAgi          99 non-null     int64  \n",
            " 2   baseInt          99 non-null     int64  \n",
            " 3   intGrowth        99 non-null     float64\n",
            " 4   maxInt           99 non-null     float64\n",
            " 5   totalBaseAttr    99 non-null     int64  \n",
            " 6   totalAttrGrowth  99 non-null     float64\n",
            " 7   totalMaxAttr     99 non-null     float64\n",
            " 8   moveSpeed        99 non-null     int64  \n",
            " 9   range            99 non-null     int64  \n",
            " 10  attackBackswing  99 non-null     float64\n",
            " 11  turnRate         99 non-null     float64\n",
            " 12  regeneration     99 non-null     float64\n",
            "dtypes: float64(7), int64(6)\n",
            "memory usage: 10.2 KB\n",
            "None\n"
          ]
        }
      ]
    },
    {
      "cell_type": "code",
      "source": [
        "# Convert int64 columns to float64\n",
        "for col in df_train.select_dtypes(include=['int64']).columns:\n",
        "    df_train[col] = df_train[col].astype('float64')\n",
        "\n",
        "# Verify the changes\n",
        "df_train.dtypes"
      ],
      "metadata": {
        "colab": {
          "base_uri": "https://localhost:8080/",
          "height": 492
        },
        "id": "q198PSVxmN7S",
        "outputId": "d207607d-c451-4192-a575-c4612c0f403e"
      },
      "execution_count": 4,
      "outputs": [
        {
          "output_type": "execute_result",
          "data": {
            "text/plain": [
              "type               float64\n",
              "baseAgi            float64\n",
              "baseInt            float64\n",
              "intGrowth          float64\n",
              "maxInt             float64\n",
              "totalBaseAttr      float64\n",
              "totalAttrGrowth    float64\n",
              "totalMaxAttr       float64\n",
              "moveSpeed          float64\n",
              "range              float64\n",
              "attackBackswing    float64\n",
              "turnRate           float64\n",
              "regeneration       float64\n",
              "dtype: object"
            ],
            "text/html": [
              "<div>\n",
              "<style scoped>\n",
              "    .dataframe tbody tr th:only-of-type {\n",
              "        vertical-align: middle;\n",
              "    }\n",
              "\n",
              "    .dataframe tbody tr th {\n",
              "        vertical-align: top;\n",
              "    }\n",
              "\n",
              "    .dataframe thead th {\n",
              "        text-align: right;\n",
              "    }\n",
              "</style>\n",
              "<table border=\"1\" class=\"dataframe\">\n",
              "  <thead>\n",
              "    <tr style=\"text-align: right;\">\n",
              "      <th></th>\n",
              "      <th>0</th>\n",
              "    </tr>\n",
              "  </thead>\n",
              "  <tbody>\n",
              "    <tr>\n",
              "      <th>type</th>\n",
              "      <td>float64</td>\n",
              "    </tr>\n",
              "    <tr>\n",
              "      <th>baseAgi</th>\n",
              "      <td>float64</td>\n",
              "    </tr>\n",
              "    <tr>\n",
              "      <th>baseInt</th>\n",
              "      <td>float64</td>\n",
              "    </tr>\n",
              "    <tr>\n",
              "      <th>intGrowth</th>\n",
              "      <td>float64</td>\n",
              "    </tr>\n",
              "    <tr>\n",
              "      <th>maxInt</th>\n",
              "      <td>float64</td>\n",
              "    </tr>\n",
              "    <tr>\n",
              "      <th>totalBaseAttr</th>\n",
              "      <td>float64</td>\n",
              "    </tr>\n",
              "    <tr>\n",
              "      <th>totalAttrGrowth</th>\n",
              "      <td>float64</td>\n",
              "    </tr>\n",
              "    <tr>\n",
              "      <th>totalMaxAttr</th>\n",
              "      <td>float64</td>\n",
              "    </tr>\n",
              "    <tr>\n",
              "      <th>moveSpeed</th>\n",
              "      <td>float64</td>\n",
              "    </tr>\n",
              "    <tr>\n",
              "      <th>range</th>\n",
              "      <td>float64</td>\n",
              "    </tr>\n",
              "    <tr>\n",
              "      <th>attackBackswing</th>\n",
              "      <td>float64</td>\n",
              "    </tr>\n",
              "    <tr>\n",
              "      <th>turnRate</th>\n",
              "      <td>float64</td>\n",
              "    </tr>\n",
              "    <tr>\n",
              "      <th>regeneration</th>\n",
              "      <td>float64</td>\n",
              "    </tr>\n",
              "  </tbody>\n",
              "</table>\n",
              "</div><br><label><b>dtype:</b> object</label>"
            ]
          },
          "metadata": {},
          "execution_count": 4
        }
      ]
    },
    {
      "cell_type": "code",
      "source": [
        "from sklearn.preprocessing import StandardScaler\n",
        "\n",
        "X = df_train.drop('type', axis=1)\n",
        "y = df_train['type']\n",
        "\n",
        "scaler = StandardScaler()\n",
        "\n",
        "# Fit the scaler to your data\n",
        "scaler.fit(df_train.drop('type', axis=1)) # Fit on all columns except the target variable\n",
        "\n",
        "# Transform your data\n",
        "scaled_features = scaler.transform(X)"
      ],
      "metadata": {
        "id": "ZjxhCM3MmRon"
      },
      "execution_count": 5,
      "outputs": []
    },
    {
      "cell_type": "code",
      "source": [
        "from sklearn.neural_network import MLPClassifier\n",
        "from sklearn.model_selection import train_test_split\n",
        "from sklearn.metrics import classification_report, accuracy_score\n",
        "\n",
        "# Split data into training and testing sets\n",
        "X_train, X_test, y_train, y_test = train_test_split(X, y, test_size=0.2, random_state=42)\n",
        "\n",
        "# train the MLP classifier\n",
        "mlp = MLPClassifier(\n",
        "    hidden_layer_sizes=(64, 32, 16),\n",
        "    learning_rate_init=0.0001,\n",
        "    max_iter=4300,\n",
        "    solver='sgd',\n",
        "    )\n",
        "mlp.fit(X_train, y_train)\n",
        "\n",
        "# Make predictions on the test set\n",
        "y_pred = mlp.predict(X_test)\n",
        "\n",
        "# Evaluate the model\n",
        "print(classification_report(y_test, y_pred))\n",
        "print(\"Accuracy:\", accuracy_score(y_test, y_pred))"
      ],
      "metadata": {
        "colab": {
          "base_uri": "https://localhost:8080/"
        },
        "id": "G9cJ7vRtmV19",
        "outputId": "78e02ffc-b636-4ead-8e49-aa56675e0e3d"
      },
      "execution_count": 6,
      "outputs": [
        {
          "output_type": "stream",
          "name": "stdout",
          "text": [
            "              precision    recall  f1-score   support\n",
            "\n",
            "         0.0       1.00      0.14      0.25         7\n",
            "         1.0       0.45      0.71      0.56         7\n",
            "         2.0       0.62      0.83      0.71         6\n",
            "\n",
            "    accuracy                           0.55        20\n",
            "   macro avg       0.69      0.56      0.51        20\n",
            "weighted avg       0.70      0.55      0.50        20\n",
            "\n",
            "Accuracy: 0.55\n"
          ]
        }
      ]
    },
    {
      "cell_type": "code",
      "source": [
        "from sklearn.metrics import confusion_matrix, accuracy_score\n",
        "import seaborn as sns\n",
        "import matplotlib.pyplot as plt\n",
        "\n",
        "# Prediksi hasil menggunakan model yang sudah dilatih\n",
        "y_pred = mlp.predict(X_test)  # Changed 'model' to 'mlp'\n",
        "\n",
        "# Menghitung nilai akurasi\n",
        "accuracy = accuracy_score(y_test, y_pred)\n",
        "print(f'Accuracy: {accuracy:.4f}')\n",
        "\n",
        "# Membuat confusion matrix\n",
        "conf_matrix = confusion_matrix(y_test, y_pred)\n",
        "\n",
        "# Visualisasi confusion matrix dengan warna ungu\n",
        "plt.figure(figsize=(8, 6))\n",
        "sns.heatmap(conf_matrix, annot=True, fmt=\"d\", cmap=\"Reds\", xticklabels=set(y_test), yticklabels=set(y_test))\n",
        "plt.xlabel(\"Predicted Label\")\n",
        "plt.ylabel(\"True Label\")\n",
        "plt.title(\"Confusion Matrix\")\n",
        "plt.show()\n"
      ],
      "metadata": {
        "colab": {
          "base_uri": "https://localhost:8080/",
          "height": 581
        },
        "id": "Q1hdOAXnmZ5o",
        "outputId": "c93057c8-ac53-418b-b9e1-f5cdc8cd5dea"
      },
      "execution_count": 12,
      "outputs": [
        {
          "output_type": "stream",
          "name": "stdout",
          "text": [
            "Accuracy: 0.5500\n"
          ]
        },
        {
          "output_type": "display_data",
          "data": {
            "text/plain": [
              "<Figure size 800x600 with 2 Axes>"
            ],
            "image/png": "[encoded data removed]"
          },
          "metadata": {}
        }
      ]
    },
    {
      "cell_type": "code",
      "source": [
        "# prompt: plot mlp.loss_curve_\n",
        "\n",
        "import matplotlib.pyplot as plt\n",
        "\n",
        "plt.plot(mlp.loss_curve_)\n",
        "plt.xlabel(\"Iterations\")\n",
        "plt.ylabel(\"Loss\")\n",
        "plt.title(\"MLP Loss Curve\")\n",
        "plt.show()"
      ],
      "metadata": {
        "colab": {
          "base_uri": "https://localhost:8080/",
          "height": 472
        },
        "id": "vgLkxRq3mezz",
        "outputId": "9c69b53f-e9d3-4c18-e3e2-4eb5d5adf31d"
      },
      "execution_count": 8,
      "outputs": [
        {
          "output_type": "display_data",
          "data": {
            "text/plain": [
              "<Figure size 640x480 with 1 Axes>"
            ],
            "image/png": "[encoded data removed]"
          },
          "metadata": {}
        }
      ]
    }
  ]
}